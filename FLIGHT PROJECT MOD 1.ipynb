{
 "cells": [
  {
   "cell_type": "markdown",
   "metadata": {},
   "source": [
    "# FLIGHT_DELAY_PREDICTION"
   ]
  },
  {
   "cell_type": "markdown",
   "metadata": {},
   "source": [
    "IMPORTING LIBRARIES"
   ]
  },
  {
   "cell_type": "code",
   "execution_count": 1,
   "metadata": {},
   "outputs": [],
   "source": [
    "import numpy as np\n",
    "import pandas as pd\n",
    "import csv\n",
    "import os\n",
    "import glob\n",
    "import json\n",
    "from pandas.io.json import json_normalize"
   ]
  },
  {
   "cell_type": "markdown",
   "metadata": {},
   "source": [
    "FLIGHT DATA"
   ]
  },
  {
   "cell_type": "code",
   "execution_count": 3,
   "metadata": {},
   "outputs": [],
   "source": [
    "#CONCAT 2016 DATA\n",
    "import pandas as pd\n",
    "import glob\n",
    "path = r'C:\\Users\\Admin\\MLP\\Flight\\2016' # use your path\n",
    "all_files = glob.glob(path + \"/*.csv\")\n",
    "li = []\n",
    "for filename in all_files:\n",
    "    df = pd.read_csv(filename, index_col=None, header=0,low_memory=False)\n",
    "    li.append(df)\n",
    "frame = pd.concat(li, axis=0, ignore_index=True)"
   ]
  },
  {
   "cell_type": "code",
   "execution_count": 4,
   "metadata": {},
   "outputs": [],
   "source": [
    "cols_to_keep=['FlightDate','Quarter','Year','Month','DayofMonth' ,'DepTime','DepDel15','CRSDepTime'\n",
    ",'DepDelayMinutes'\n",
    ",'OriginAirportID'\n",
    ",'DestAirportID'\n",
    ",'ArrTime'\n",
    ",'CRSArrTime'\n",
    ",'ArrDel15'\n",
    ",'ArrDelayMinutes','Origin','Dest']"
   ]
  },
  {
   "cell_type": "code",
   "execution_count": 6,
   "metadata": {},
   "outputs": [],
   "source": [
    "frame=frame[cols_to_keep]\n",
    "f1=frame['Origin'].isin(['ATL','CLT','DEN','DFW','EWR','IAH','MCO','ORD','SEA','JFK','LAS','LAX','MIA','PHX','SFO'])\n",
    "f2=frame['Dest'].isin(['ATL','CLT','DEN','DFW','EWR','IAH','MCO','ORD','SEA','JFK','LAS','LAX','MIA','PHX','SFO'])\n",
    "frame=frame[f1 & f2]\n",
    "frame.to_csv(r'C:\\Users\\Admin\\MLP\\Flight\\2016.csv',index=None)"
   ]
  },
  {
   "cell_type": "code",
   "execution_count": null,
   "metadata": {
    "scrolled": false
   },
   "outputs": [],
   "source": [
    "#CONCAT 2017 CSV\n",
    "import pandas as pd\n",
    "import glob\n",
    "path1 = r'C:\\Users\\Admin\\MLP\\Flight\\2017' # use your path\n",
    "all_files1 = glob.glob(path1 + \"/*.csv\")\n",
    "lis = []\n",
    "for filename1 in all_files1:\n",
    "    df1 = pd.read_csv(filename1, index_col=None, header=0,low_memory=False)\n",
    "    lis.append(df1)\n",
    "frame1= pd.concat(lis, axis=0, ignore_index=True)"
   ]
  },
  {
   "cell_type": "code",
   "execution_count": 16,
   "metadata": {},
   "outputs": [],
   "source": [
    "frame1=frame1[cols_to_keep]\n",
    "f3=frame1['Origin'].isin(['ATL','CLT','DEN','DFW','EWR','IAH','MCO','ORD','SEA','JFK','LAS','LAX','MIA','PHX','SFO'])\n",
    "f4=frame1['Dest'].isin(['ATL','CLT','DEN','DFW','EWR','IAH','MCO','ORD','SEA','JFK','LAS','LAX','MIA','PHX','SFO'])\n",
    "frame1=frame1[f3 & f4]\n",
    "frame.to_csv(r'C:\\Users\\Admin\\MLP\\Flight\\2017.csv',index=None)"
   ]
  },
  {
   "cell_type": "code",
   "execution_count": 19,
   "metadata": {},
   "outputs": [],
   "source": [
    "f=[frame,frame1]\n",
    "df5=pd.concat(f)\n",
    "df5.to_csv('Flight.csv',index=None)\n",
    "df6=pd.read_csv('Flight.csv')"
   ]
  },
  {
   "cell_type": "code",
   "execution_count": 46,
   "metadata": {},
   "outputs": [
    {
     "data": {
      "text/plain": [
       "(1877296, 17)"
      ]
     },
     "execution_count": 46,
     "metadata": {},
     "output_type": "execute_result"
    }
   ],
   "source": [
    "df6.shape"
   ]
  },
  {
   "cell_type": "markdown",
   "metadata": {},
   "source": [
    "WEATHER DATA"
   ]
  },
  {
   "cell_type": "code",
   "execution_count": 91,
   "metadata": {
    "scrolled": true
   },
   "outputs": [],
   "source": [
    "from pandas.io.json import json_normalize\n",
    "dir_res=os.listdir(r'C:/Users/Admin/MLP/Weather')\n",
    "conca=[]\n",
    "for i in dir_res:\n",
    "    path=r'C:/Users/Admin/MLP/Weather/'+i\n",
    "    con=[]\n",
    "    \n",
    "#     json_files = [pos_json for pos_json in os.listdir(path) if pos_json.endswith('.json')]\n",
    "    for file_name in  os.listdir(path) :\n",
    "        if file_name.endswith('.json'):\n",
    "            with open(path+'/'+file_name) as jsfile:\n",
    "                data = json.load(jsfile)\n",
    "                df=pd.json_normalize(data['data']['weather'])\n",
    "                df1=df[['hourly','date']]\n",
    "                a=data['data']['request'][0]['query'][:3]\n",
    "                lis=[]\n",
    "                for i in range(len(df1)):\n",
    "                    hour=df1.iloc[i,0]\n",
    "                    day=df1.iloc[i,1]\n",
    "                    cols_to_keep1=['weatherCode' ,'pressure', 'cloudcover', 'tempF', 'WindChillF' ,'time','precipMM', 'DewPointF', \n",
    "                                   'humidity', 'windspeedKmph', 'visibility', 'WindGustKmph','winddirDegree']\n",
    "                    df3=pd.DataFrame(hour)\n",
    "                    df3=df3[cols_to_keep1]\n",
    "                    df3['date']=day\n",
    "                    df3['airport']=a\n",
    "                    lis.append(df3)\n",
    "#                     D={u:df3 for u in range(len(df1))}\n",
    "                w=pd.concat(lis)\n",
    "                con.append(w)\n",
    "#                 r=pd.DataFrame(list(D.items()))\n",
    "#                 T={e:w for e in range(len(os.listdir(path)))}\n",
    "    c=pd.concat(res,ignore_index=True)\n",
    "    conca.append(c)\n",
    "#     Q={s:c for s in range(len(dir_res))}\n",
    "result=pd.concat(ress,ignore_index=True)  \n"
   ]
  },
  {
   "cell_type": "code",
   "execution_count": 113,
   "metadata": {},
   "outputs": [],
   "source": [
    "result.to_csv('weather.csv')"
   ]
  },
  {
   "cell_type": "code",
   "execution_count": 539,
   "metadata": {},
   "outputs": [],
   "source": [
    "distance=pd.read_csv(r'C:\\Users\\Admin\\MLP\\Flight\\Flight.csv')"
   ]
  },
  {
   "cell_type": "code",
   "execution_count": 501,
   "metadata": {},
   "outputs": [],
   "source": [
    "weather=pd.read_csv(r\"C:\\Users\\Admin\\MLP\\Weather\\weather.csv\")"
   ]
  },
  {
   "cell_type": "markdown",
   "metadata": {},
   "source": [
    "TIME ROUND"
   ]
  },
  {
   "cell_type": "code",
   "execution_count": 544,
   "metadata": {},
   "outputs": [],
   "source": [
    "distance['CRSDepTime']=[time/100 for time in distance.CRSDepTime]"
   ]
  },
  {
   "cell_type": "code",
   "execution_count": 545,
   "metadata": {},
   "outputs": [],
   "source": [
    "distance['CRSDepTime']=distance['CRSDepTime'].apply(np.ceil)"
   ]
  },
  {
   "cell_type": "code",
   "execution_count": 546,
   "metadata": {},
   "outputs": [],
   "source": [
    "distance['CRSDepTime']=[h*100 for h in distance.CRSDepTime]"
   ]
  },
  {
   "cell_type": "code",
   "execution_count": 547,
   "metadata": {},
   "outputs": [],
   "source": [
    "distance['CRSDepTime']=distance['CRSDepTime'].astype(int)"
   ]
  },
  {
   "cell_type": "code",
   "execution_count": 548,
   "metadata": {},
   "outputs": [],
   "source": [
    "distance['CRSDepTime'] = np.where((distance.CRSDepTime==2400), 0, distance.CRSDepTime)"
   ]
  },
  {
   "cell_type": "markdown",
   "metadata": {},
   "source": [
    "Merge"
   ]
  },
  {
   "cell_type": "code",
   "execution_count": 560,
   "metadata": {},
   "outputs": [
    {
     "data": {
      "text/plain": [
       "(1877296, 17)"
      ]
     },
     "execution_count": 560,
     "metadata": {},
     "output_type": "execute_result"
    }
   ],
   "source": [
    "distance.shape"
   ]
  },
  {
   "cell_type": "code",
   "execution_count": 561,
   "metadata": {},
   "outputs": [
    {
     "data": {
      "text/plain": [
       "(263160, 15)"
      ]
     },
     "execution_count": 561,
     "metadata": {},
     "output_type": "execute_result"
    }
   ],
   "source": [
    "weather.shape"
   ]
  },
  {
   "cell_type": "code",
   "execution_count": 563,
   "metadata": {},
   "outputs": [],
   "source": [
    "Data= pd.merge(distance,weather, left_on = ['FlightDate', 'Origin', 'CRSDepTime'], right_on = ['date', 'airport', 'time'])"
   ]
  },
  {
   "cell_type": "code",
   "execution_count": 564,
   "metadata": {},
   "outputs": [
    {
     "data": {
      "text/plain": [
       "(1877296, 32)"
      ]
     },
     "execution_count": 564,
     "metadata": {},
     "output_type": "execute_result"
    }
   ],
   "source": [
    "Data.shape"
   ]
  },
  {
   "cell_type": "code",
   "execution_count": 565,
   "metadata": {},
   "outputs": [],
   "source": [
    "Data=Data.dropna()"
   ]
  },
  {
   "cell_type": "code",
   "execution_count": 566,
   "metadata": {},
   "outputs": [
    {
     "data": {
      "text/plain": [
       "(1851436, 32)"
      ]
     },
     "execution_count": 566,
     "metadata": {},
     "output_type": "execute_result"
    }
   ],
   "source": [
    "Data.shape"
   ]
  },
  {
   "cell_type": "code",
   "execution_count": 567,
   "metadata": {},
   "outputs": [],
   "source": [
    "Data=Data.drop(['Origin','Dest'],axis=1)"
   ]
  },
  {
   "cell_type": "code",
   "execution_count": 568,
   "metadata": {},
   "outputs": [
    {
     "data": {
      "text/plain": [
       "Index(['FlightDate', 'Quarter', 'Year', 'Month', 'DayofMonth', 'DepTime',\n",
       "       'DepDel15', 'CRSDepTime', 'DepDelayMinutes', 'OriginAirportID',\n",
       "       'DestAirportID', 'ArrTime', 'CRSArrTime', 'ArrDel15', 'ArrDelayMinutes',\n",
       "       'weatherCode', 'pressure', 'cloudcover', 'tempF', 'WindChillF', 'time',\n",
       "       'precipMM', 'DewPointF', 'humidity', 'windspeedKmph', 'visibility',\n",
       "       'WindGustKmph', 'winddirDegree', 'date', 'airport'],\n",
       "      dtype='object')"
      ]
     },
     "execution_count": 568,
     "metadata": {},
     "output_type": "execute_result"
    }
   ],
   "source": [
    "Data.columns"
   ]
  },
  {
   "cell_type": "code",
   "execution_count": 569,
   "metadata": {},
   "outputs": [
    {
     "data": {
      "text/plain": [
       "(1851436, 30)"
      ]
     },
     "execution_count": 569,
     "metadata": {},
     "output_type": "execute_result"
    }
   ],
   "source": [
    "Data.shape"
   ]
  },
  {
   "cell_type": "code",
   "execution_count": 570,
   "metadata": {},
   "outputs": [],
   "source": [
    "Data.to_csv('Data.csv')"
   ]
  },
  {
   "cell_type": "markdown",
   "metadata": {},
   "source": [
    "MODULE 1 COMPLETED !!!"
   ]
  }
 ],
 "metadata": {
  "kernelspec": {
   "display_name": "Python 3",
   "language": "python",
   "name": "python3"
  },
  "language_info": {
   "codemirror_mode": {
    "name": "ipython",
    "version": 3
   },
   "file_extension": ".py",
   "mimetype": "text/x-python",
   "name": "python",
   "nbconvert_exporter": "python",
   "pygments_lexer": "ipython3",
   "version": "3.7.3"
  }
 },
 "nbformat": 4,
 "nbformat_minor": 2
}
