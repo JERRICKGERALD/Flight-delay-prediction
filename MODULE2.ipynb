{
 "cells": [
  {
   "cell_type": "markdown",
   "metadata": {},
   "source": [
    "# CLASSIFICATION"
   ]
  },
  {
   "cell_type": "markdown",
   "metadata": {},
   "source": [
    "### IMPORTING LIBRARIES"
   ]
  },
  {
   "cell_type": "code",
   "execution_count": 87,
   "metadata": {},
   "outputs": [],
   "source": [
    "import numpy as np \n",
    "import pandas as pd\n",
    "from sklearn.model_selection import train_test_split\n",
    "import matplotlib.pyplot as plt\n",
    "%matplotlib inline\n",
    "plt.rcParams['figure.figsize'] = (10.0, 8.0)\n",
    "import seaborn as sns\n",
    "from scipy import stats\n",
    "from sklearn import metrics\n",
    "from scipy.stats import norm\n",
    "import xgboost\n",
    "from xgboost import XGBClassifier\n",
    "from sklearn.linear_model import LogisticRegression\n",
    "from sklearn.ensemble import ExtraTreesClassifier\n",
    "from sklearn.metrics import roc_auc_score"
   ]
  },
  {
   "cell_type": "markdown",
   "metadata": {},
   "source": [
    "# DATA READING"
   ]
  },
  {
   "cell_type": "code",
   "execution_count": 2,
   "metadata": {},
   "outputs": [],
   "source": [
    "df=pd.read_csv(r\"C:\\Users\\Admin\\MLP\\DATA\\Data.csv\")"
   ]
  },
  {
   "cell_type": "code",
   "execution_count": 3,
   "metadata": {},
   "outputs": [
    {
     "data": {
      "text/plain": [
       "Index(['Unnamed: 0', 'FlightDate', 'Quarter', 'Year', 'Month', 'DayofMonth',\n",
       "       'DepTime', 'DepDel15', 'CRSDepTime', 'DepDelayMinutes',\n",
       "       'OriginAirportID', 'DestAirportID', 'ArrTime', 'CRSArrTime', 'ArrDel15',\n",
       "       'ArrDelayMinutes', 'weatherCode', 'pressure', 'cloudcover', 'tempF',\n",
       "       'WindChillF', 'time', 'precipMM', 'DewPointF', 'humidity',\n",
       "       'windspeedKmph', 'visibility', 'WindGustKmph', 'winddirDegree', 'date',\n",
       "       'airport'],\n",
       "      dtype='object')"
      ]
     },
     "execution_count": 3,
     "metadata": {},
     "output_type": "execute_result"
    }
   ],
   "source": [
    "df.columns"
   ]
  },
  {
   "cell_type": "code",
   "execution_count": 4,
   "metadata": {},
   "outputs": [],
   "source": [
    "df=df.drop(['Unnamed: 0'],axis=1)"
   ]
  },
  {
   "cell_type": "code",
   "execution_count": 5,
   "metadata": {},
   "outputs": [
    {
     "data": {
      "text/html": [
       "<div>\n",
       "<style scoped>\n",
       "    .dataframe tbody tr th:only-of-type {\n",
       "        vertical-align: middle;\n",
       "    }\n",
       "\n",
       "    .dataframe tbody tr th {\n",
       "        vertical-align: top;\n",
       "    }\n",
       "\n",
       "    .dataframe thead th {\n",
       "        text-align: right;\n",
       "    }\n",
       "</style>\n",
       "<table border=\"1\" class=\"dataframe\">\n",
       "  <thead>\n",
       "    <tr style=\"text-align: right;\">\n",
       "      <th></th>\n",
       "      <th>FlightDate</th>\n",
       "      <th>Quarter</th>\n",
       "      <th>Year</th>\n",
       "      <th>Month</th>\n",
       "      <th>DayofMonth</th>\n",
       "      <th>DepTime</th>\n",
       "      <th>DepDel15</th>\n",
       "      <th>CRSDepTime</th>\n",
       "      <th>DepDelayMinutes</th>\n",
       "      <th>OriginAirportID</th>\n",
       "      <th>...</th>\n",
       "      <th>time</th>\n",
       "      <th>precipMM</th>\n",
       "      <th>DewPointF</th>\n",
       "      <th>humidity</th>\n",
       "      <th>windspeedKmph</th>\n",
       "      <th>visibility</th>\n",
       "      <th>WindGustKmph</th>\n",
       "      <th>winddirDegree</th>\n",
       "      <th>date</th>\n",
       "      <th>airport</th>\n",
       "    </tr>\n",
       "  </thead>\n",
       "  <tbody>\n",
       "    <tr>\n",
       "      <th>0</th>\n",
       "      <td>2016-01-01</td>\n",
       "      <td>1</td>\n",
       "      <td>2016</td>\n",
       "      <td>1</td>\n",
       "      <td>1</td>\n",
       "      <td>741.0</td>\n",
       "      <td>0.0</td>\n",
       "      <td>800</td>\n",
       "      <td>0.0</td>\n",
       "      <td>14747</td>\n",
       "      <td>...</td>\n",
       "      <td>800</td>\n",
       "      <td>0.0</td>\n",
       "      <td>23</td>\n",
       "      <td>65</td>\n",
       "      <td>7</td>\n",
       "      <td>10</td>\n",
       "      <td>8</td>\n",
       "      <td>108</td>\n",
       "      <td>2016-01-01</td>\n",
       "      <td>SEA</td>\n",
       "    </tr>\n",
       "    <tr>\n",
       "      <th>1</th>\n",
       "      <td>2016-01-01</td>\n",
       "      <td>1</td>\n",
       "      <td>2016</td>\n",
       "      <td>1</td>\n",
       "      <td>1</td>\n",
       "      <td>759.0</td>\n",
       "      <td>1.0</td>\n",
       "      <td>800</td>\n",
       "      <td>35.0</td>\n",
       "      <td>14747</td>\n",
       "      <td>...</td>\n",
       "      <td>800</td>\n",
       "      <td>0.0</td>\n",
       "      <td>23</td>\n",
       "      <td>65</td>\n",
       "      <td>7</td>\n",
       "      <td>10</td>\n",
       "      <td>8</td>\n",
       "      <td>108</td>\n",
       "      <td>2016-01-01</td>\n",
       "      <td>SEA</td>\n",
       "    </tr>\n",
       "    <tr>\n",
       "      <th>2</th>\n",
       "      <td>2016-01-01</td>\n",
       "      <td>1</td>\n",
       "      <td>2016</td>\n",
       "      <td>1</td>\n",
       "      <td>1</td>\n",
       "      <td>705.0</td>\n",
       "      <td>0.0</td>\n",
       "      <td>800</td>\n",
       "      <td>0.0</td>\n",
       "      <td>14747</td>\n",
       "      <td>...</td>\n",
       "      <td>800</td>\n",
       "      <td>0.0</td>\n",
       "      <td>23</td>\n",
       "      <td>65</td>\n",
       "      <td>7</td>\n",
       "      <td>10</td>\n",
       "      <td>8</td>\n",
       "      <td>108</td>\n",
       "      <td>2016-01-01</td>\n",
       "      <td>SEA</td>\n",
       "    </tr>\n",
       "    <tr>\n",
       "      <th>3</th>\n",
       "      <td>2016-01-01</td>\n",
       "      <td>1</td>\n",
       "      <td>2016</td>\n",
       "      <td>1</td>\n",
       "      <td>1</td>\n",
       "      <td>754.0</td>\n",
       "      <td>0.0</td>\n",
       "      <td>800</td>\n",
       "      <td>0.0</td>\n",
       "      <td>14747</td>\n",
       "      <td>...</td>\n",
       "      <td>800</td>\n",
       "      <td>0.0</td>\n",
       "      <td>23</td>\n",
       "      <td>65</td>\n",
       "      <td>7</td>\n",
       "      <td>10</td>\n",
       "      <td>8</td>\n",
       "      <td>108</td>\n",
       "      <td>2016-01-01</td>\n",
       "      <td>SEA</td>\n",
       "    </tr>\n",
       "    <tr>\n",
       "      <th>4</th>\n",
       "      <td>2016-01-01</td>\n",
       "      <td>1</td>\n",
       "      <td>2016</td>\n",
       "      <td>1</td>\n",
       "      <td>1</td>\n",
       "      <td>740.0</td>\n",
       "      <td>0.0</td>\n",
       "      <td>800</td>\n",
       "      <td>2.0</td>\n",
       "      <td>14747</td>\n",
       "      <td>...</td>\n",
       "      <td>800</td>\n",
       "      <td>0.0</td>\n",
       "      <td>23</td>\n",
       "      <td>65</td>\n",
       "      <td>7</td>\n",
       "      <td>10</td>\n",
       "      <td>8</td>\n",
       "      <td>108</td>\n",
       "      <td>2016-01-01</td>\n",
       "      <td>SEA</td>\n",
       "    </tr>\n",
       "  </tbody>\n",
       "</table>\n",
       "<p>5 rows × 30 columns</p>\n",
       "</div>"
      ],
      "text/plain": [
       "   FlightDate  Quarter  Year  Month  DayofMonth  DepTime  DepDel15  \\\n",
       "0  2016-01-01        1  2016      1           1    741.0       0.0   \n",
       "1  2016-01-01        1  2016      1           1    759.0       1.0   \n",
       "2  2016-01-01        1  2016      1           1    705.0       0.0   \n",
       "3  2016-01-01        1  2016      1           1    754.0       0.0   \n",
       "4  2016-01-01        1  2016      1           1    740.0       0.0   \n",
       "\n",
       "   CRSDepTime  DepDelayMinutes  OriginAirportID  ...  time  precipMM  \\\n",
       "0         800              0.0            14747  ...   800       0.0   \n",
       "1         800             35.0            14747  ...   800       0.0   \n",
       "2         800              0.0            14747  ...   800       0.0   \n",
       "3         800              0.0            14747  ...   800       0.0   \n",
       "4         800              2.0            14747  ...   800       0.0   \n",
       "\n",
       "   DewPointF  humidity  windspeedKmph  visibility  WindGustKmph  \\\n",
       "0         23        65              7          10             8   \n",
       "1         23        65              7          10             8   \n",
       "2         23        65              7          10             8   \n",
       "3         23        65              7          10             8   \n",
       "4         23        65              7          10             8   \n",
       "\n",
       "   winddirDegree        date  airport  \n",
       "0            108  2016-01-01      SEA  \n",
       "1            108  2016-01-01      SEA  \n",
       "2            108  2016-01-01      SEA  \n",
       "3            108  2016-01-01      SEA  \n",
       "4            108  2016-01-01      SEA  \n",
       "\n",
       "[5 rows x 30 columns]"
      ]
     },
     "execution_count": 5,
     "metadata": {},
     "output_type": "execute_result"
    }
   ],
   "source": [
    "df.head()"
   ]
  },
  {
   "cell_type": "code",
   "execution_count": 6,
   "metadata": {},
   "outputs": [
    {
     "data": {
      "text/html": [
       "<div>\n",
       "<style scoped>\n",
       "    .dataframe tbody tr th:only-of-type {\n",
       "        vertical-align: middle;\n",
       "    }\n",
       "\n",
       "    .dataframe tbody tr th {\n",
       "        vertical-align: top;\n",
       "    }\n",
       "\n",
       "    .dataframe thead th {\n",
       "        text-align: right;\n",
       "    }\n",
       "</style>\n",
       "<table border=\"1\" class=\"dataframe\">\n",
       "  <thead>\n",
       "    <tr style=\"text-align: right;\">\n",
       "      <th></th>\n",
       "      <th>Quarter</th>\n",
       "      <th>Year</th>\n",
       "      <th>Month</th>\n",
       "      <th>DayofMonth</th>\n",
       "      <th>DepTime</th>\n",
       "      <th>DepDel15</th>\n",
       "      <th>CRSDepTime</th>\n",
       "      <th>DepDelayMinutes</th>\n",
       "      <th>OriginAirportID</th>\n",
       "      <th>DestAirportID</th>\n",
       "      <th>...</th>\n",
       "      <th>tempF</th>\n",
       "      <th>WindChillF</th>\n",
       "      <th>time</th>\n",
       "      <th>precipMM</th>\n",
       "      <th>DewPointF</th>\n",
       "      <th>humidity</th>\n",
       "      <th>windspeedKmph</th>\n",
       "      <th>visibility</th>\n",
       "      <th>WindGustKmph</th>\n",
       "      <th>winddirDegree</th>\n",
       "    </tr>\n",
       "  </thead>\n",
       "  <tbody>\n",
       "    <tr>\n",
       "      <th>count</th>\n",
       "      <td>1.851436e+06</td>\n",
       "      <td>1.851436e+06</td>\n",
       "      <td>1.851436e+06</td>\n",
       "      <td>1.851436e+06</td>\n",
       "      <td>1.851436e+06</td>\n",
       "      <td>1.851436e+06</td>\n",
       "      <td>1.851436e+06</td>\n",
       "      <td>1.851436e+06</td>\n",
       "      <td>1.851436e+06</td>\n",
       "      <td>1.851436e+06</td>\n",
       "      <td>...</td>\n",
       "      <td>1.851436e+06</td>\n",
       "      <td>1.851436e+06</td>\n",
       "      <td>1.851436e+06</td>\n",
       "      <td>1.851436e+06</td>\n",
       "      <td>1.851436e+06</td>\n",
       "      <td>1.851436e+06</td>\n",
       "      <td>1.851436e+06</td>\n",
       "      <td>1.851436e+06</td>\n",
       "      <td>1.851436e+06</td>\n",
       "      <td>1.851436e+06</td>\n",
       "    </tr>\n",
       "    <tr>\n",
       "      <th>mean</th>\n",
       "      <td>2.515180e+00</td>\n",
       "      <td>2.016494e+03</td>\n",
       "      <td>6.544073e+00</td>\n",
       "      <td>1.576746e+01</td>\n",
       "      <td>1.328582e+03</td>\n",
       "      <td>2.009678e-01</td>\n",
       "      <td>1.349253e+03</td>\n",
       "      <td>1.403783e+01</td>\n",
       "      <td>1.273775e+04</td>\n",
       "      <td>1.273823e+04</td>\n",
       "      <td>...</td>\n",
       "      <td>6.550408e+01</td>\n",
       "      <td>6.413533e+01</td>\n",
       "      <td>1.349253e+03</td>\n",
       "      <td>2.594639e-01</td>\n",
       "      <td>4.938856e+01</td>\n",
       "      <td>6.301537e+01</td>\n",
       "      <td>1.237799e+01</td>\n",
       "      <td>9.448645e+00</td>\n",
       "      <td>1.669092e+01</td>\n",
       "      <td>1.869656e+02</td>\n",
       "    </tr>\n",
       "    <tr>\n",
       "      <th>std</th>\n",
       "      <td>1.104736e+00</td>\n",
       "      <td>4.999633e-01</td>\n",
       "      <td>3.396908e+00</td>\n",
       "      <td>8.790680e+00</td>\n",
       "      <td>5.270672e+02</td>\n",
       "      <td>4.007241e-01</td>\n",
       "      <td>5.275546e+02</td>\n",
       "      <td>4.152727e+01</td>\n",
       "      <td>1.354932e+03</td>\n",
       "      <td>1.354563e+03</td>\n",
       "      <td>...</td>\n",
       "      <td>1.712732e+01</td>\n",
       "      <td>1.901423e+01</td>\n",
       "      <td>5.275546e+02</td>\n",
       "      <td>9.899061e-01</td>\n",
       "      <td>1.614474e+01</td>\n",
       "      <td>2.239902e+01</td>\n",
       "      <td>6.492754e+00</td>\n",
       "      <td>1.803303e+00</td>\n",
       "      <td>8.992956e+00</td>\n",
       "      <td>8.670388e+01</td>\n",
       "    </tr>\n",
       "    <tr>\n",
       "      <th>min</th>\n",
       "      <td>1.000000e+00</td>\n",
       "      <td>2.016000e+03</td>\n",
       "      <td>1.000000e+00</td>\n",
       "      <td>1.000000e+00</td>\n",
       "      <td>1.000000e+00</td>\n",
       "      <td>0.000000e+00</td>\n",
       "      <td>0.000000e+00</td>\n",
       "      <td>0.000000e+00</td>\n",
       "      <td>1.039700e+04</td>\n",
       "      <td>1.039700e+04</td>\n",
       "      <td>...</td>\n",
       "      <td>-1.000000e+01</td>\n",
       "      <td>-2.500000e+01</td>\n",
       "      <td>0.000000e+00</td>\n",
       "      <td>0.000000e+00</td>\n",
       "      <td>-1.500000e+01</td>\n",
       "      <td>3.000000e+00</td>\n",
       "      <td>0.000000e+00</td>\n",
       "      <td>0.000000e+00</td>\n",
       "      <td>1.000000e+00</td>\n",
       "      <td>0.000000e+00</td>\n",
       "    </tr>\n",
       "    <tr>\n",
       "      <th>25%</th>\n",
       "      <td>2.000000e+00</td>\n",
       "      <td>2.016000e+03</td>\n",
       "      <td>4.000000e+00</td>\n",
       "      <td>8.000000e+00</td>\n",
       "      <td>9.060000e+02</td>\n",
       "      <td>0.000000e+00</td>\n",
       "      <td>9.000000e+02</td>\n",
       "      <td>0.000000e+00</td>\n",
       "      <td>1.129800e+04</td>\n",
       "      <td>1.129800e+04</td>\n",
       "      <td>...</td>\n",
       "      <td>5.500000e+01</td>\n",
       "      <td>5.400000e+01</td>\n",
       "      <td>9.000000e+02</td>\n",
       "      <td>0.000000e+00</td>\n",
       "      <td>3.800000e+01</td>\n",
       "      <td>4.800000e+01</td>\n",
       "      <td>7.000000e+00</td>\n",
       "      <td>1.000000e+01</td>\n",
       "      <td>1.000000e+01</td>\n",
       "      <td>1.210000e+02</td>\n",
       "    </tr>\n",
       "    <tr>\n",
       "      <th>50%</th>\n",
       "      <td>3.000000e+00</td>\n",
       "      <td>2.016000e+03</td>\n",
       "      <td>7.000000e+00</td>\n",
       "      <td>1.600000e+01</td>\n",
       "      <td>1.322000e+03</td>\n",
       "      <td>0.000000e+00</td>\n",
       "      <td>1.300000e+03</td>\n",
       "      <td>0.000000e+00</td>\n",
       "      <td>1.289200e+04</td>\n",
       "      <td>1.289200e+04</td>\n",
       "      <td>...</td>\n",
       "      <td>6.600000e+01</td>\n",
       "      <td>6.600000e+01</td>\n",
       "      <td>1.300000e+03</td>\n",
       "      <td>0.000000e+00</td>\n",
       "      <td>5.100000e+01</td>\n",
       "      <td>6.700000e+01</td>\n",
       "      <td>1.100000e+01</td>\n",
       "      <td>1.000000e+01</td>\n",
       "      <td>1.500000e+01</td>\n",
       "      <td>1.950000e+02</td>\n",
       "    </tr>\n",
       "    <tr>\n",
       "      <th>75%</th>\n",
       "      <td>3.000000e+00</td>\n",
       "      <td>2.017000e+03</td>\n",
       "      <td>9.000000e+00</td>\n",
       "      <td>2.300000e+01</td>\n",
       "      <td>1.747000e+03</td>\n",
       "      <td>0.000000e+00</td>\n",
       "      <td>1.800000e+03</td>\n",
       "      <td>9.000000e+00</td>\n",
       "      <td>1.393000e+04</td>\n",
       "      <td>1.393000e+04</td>\n",
       "      <td>...</td>\n",
       "      <td>7.800000e+01</td>\n",
       "      <td>7.800000e+01</td>\n",
       "      <td>1.800000e+03</td>\n",
       "      <td>1.000000e-01</td>\n",
       "      <td>6.200000e+01</td>\n",
       "      <td>8.100000e+01</td>\n",
       "      <td>1.600000e+01</td>\n",
       "      <td>1.000000e+01</td>\n",
       "      <td>2.100000e+01</td>\n",
       "      <td>2.540000e+02</td>\n",
       "    </tr>\n",
       "    <tr>\n",
       "      <th>max</th>\n",
       "      <td>4.000000e+00</td>\n",
       "      <td>2.017000e+03</td>\n",
       "      <td>1.200000e+01</td>\n",
       "      <td>3.100000e+01</td>\n",
       "      <td>2.400000e+03</td>\n",
       "      <td>1.000000e+00</td>\n",
       "      <td>2.300000e+03</td>\n",
       "      <td>2.149000e+03</td>\n",
       "      <td>1.477100e+04</td>\n",
       "      <td>1.477100e+04</td>\n",
       "      <td>...</td>\n",
       "      <td>1.210000e+02</td>\n",
       "      <td>1.210000e+02</td>\n",
       "      <td>2.300000e+03</td>\n",
       "      <td>3.050000e+01</td>\n",
       "      <td>8.200000e+01</td>\n",
       "      <td>1.000000e+02</td>\n",
       "      <td>5.900000e+01</td>\n",
       "      <td>2.000000e+01</td>\n",
       "      <td>8.200000e+01</td>\n",
       "      <td>3.600000e+02</td>\n",
       "    </tr>\n",
       "  </tbody>\n",
       "</table>\n",
       "<p>8 rows × 27 columns</p>\n",
       "</div>"
      ],
      "text/plain": [
       "            Quarter          Year         Month    DayofMonth       DepTime  \\\n",
       "count  1.851436e+06  1.851436e+06  1.851436e+06  1.851436e+06  1.851436e+06   \n",
       "mean   2.515180e+00  2.016494e+03  6.544073e+00  1.576746e+01  1.328582e+03   \n",
       "std    1.104736e+00  4.999633e-01  3.396908e+00  8.790680e+00  5.270672e+02   \n",
       "min    1.000000e+00  2.016000e+03  1.000000e+00  1.000000e+00  1.000000e+00   \n",
       "25%    2.000000e+00  2.016000e+03  4.000000e+00  8.000000e+00  9.060000e+02   \n",
       "50%    3.000000e+00  2.016000e+03  7.000000e+00  1.600000e+01  1.322000e+03   \n",
       "75%    3.000000e+00  2.017000e+03  9.000000e+00  2.300000e+01  1.747000e+03   \n",
       "max    4.000000e+00  2.017000e+03  1.200000e+01  3.100000e+01  2.400000e+03   \n",
       "\n",
       "           DepDel15    CRSDepTime  DepDelayMinutes  OriginAirportID  \\\n",
       "count  1.851436e+06  1.851436e+06     1.851436e+06     1.851436e+06   \n",
       "mean   2.009678e-01  1.349253e+03     1.403783e+01     1.273775e+04   \n",
       "std    4.007241e-01  5.275546e+02     4.152727e+01     1.354932e+03   \n",
       "min    0.000000e+00  0.000000e+00     0.000000e+00     1.039700e+04   \n",
       "25%    0.000000e+00  9.000000e+02     0.000000e+00     1.129800e+04   \n",
       "50%    0.000000e+00  1.300000e+03     0.000000e+00     1.289200e+04   \n",
       "75%    0.000000e+00  1.800000e+03     9.000000e+00     1.393000e+04   \n",
       "max    1.000000e+00  2.300000e+03     2.149000e+03     1.477100e+04   \n",
       "\n",
       "       DestAirportID  ...         tempF    WindChillF          time  \\\n",
       "count   1.851436e+06  ...  1.851436e+06  1.851436e+06  1.851436e+06   \n",
       "mean    1.273823e+04  ...  6.550408e+01  6.413533e+01  1.349253e+03   \n",
       "std     1.354563e+03  ...  1.712732e+01  1.901423e+01  5.275546e+02   \n",
       "min     1.039700e+04  ... -1.000000e+01 -2.500000e+01  0.000000e+00   \n",
       "25%     1.129800e+04  ...  5.500000e+01  5.400000e+01  9.000000e+02   \n",
       "50%     1.289200e+04  ...  6.600000e+01  6.600000e+01  1.300000e+03   \n",
       "75%     1.393000e+04  ...  7.800000e+01  7.800000e+01  1.800000e+03   \n",
       "max     1.477100e+04  ...  1.210000e+02  1.210000e+02  2.300000e+03   \n",
       "\n",
       "           precipMM     DewPointF      humidity  windspeedKmph    visibility  \\\n",
       "count  1.851436e+06  1.851436e+06  1.851436e+06   1.851436e+06  1.851436e+06   \n",
       "mean   2.594639e-01  4.938856e+01  6.301537e+01   1.237799e+01  9.448645e+00   \n",
       "std    9.899061e-01  1.614474e+01  2.239902e+01   6.492754e+00  1.803303e+00   \n",
       "min    0.000000e+00 -1.500000e+01  3.000000e+00   0.000000e+00  0.000000e+00   \n",
       "25%    0.000000e+00  3.800000e+01  4.800000e+01   7.000000e+00  1.000000e+01   \n",
       "50%    0.000000e+00  5.100000e+01  6.700000e+01   1.100000e+01  1.000000e+01   \n",
       "75%    1.000000e-01  6.200000e+01  8.100000e+01   1.600000e+01  1.000000e+01   \n",
       "max    3.050000e+01  8.200000e+01  1.000000e+02   5.900000e+01  2.000000e+01   \n",
       "\n",
       "       WindGustKmph  winddirDegree  \n",
       "count  1.851436e+06   1.851436e+06  \n",
       "mean   1.669092e+01   1.869656e+02  \n",
       "std    8.992956e+00   8.670388e+01  \n",
       "min    1.000000e+00   0.000000e+00  \n",
       "25%    1.000000e+01   1.210000e+02  \n",
       "50%    1.500000e+01   1.950000e+02  \n",
       "75%    2.100000e+01   2.540000e+02  \n",
       "max    8.200000e+01   3.600000e+02  \n",
       "\n",
       "[8 rows x 27 columns]"
      ]
     },
     "execution_count": 6,
     "metadata": {},
     "output_type": "execute_result"
    }
   ],
   "source": [
    "df.describe()"
   ]
  },
  {
   "cell_type": "code",
   "execution_count": 7,
   "metadata": {},
   "outputs": [
    {
     "name": "stdout",
     "output_type": "stream",
     "text": [
      "<class 'pandas.core.frame.DataFrame'>\n",
      "RangeIndex: 1851436 entries, 0 to 1851435\n",
      "Data columns (total 30 columns):\n",
      " #   Column           Dtype  \n",
      "---  ------           -----  \n",
      " 0   FlightDate       object \n",
      " 1   Quarter          int64  \n",
      " 2   Year             int64  \n",
      " 3   Month            int64  \n",
      " 4   DayofMonth       int64  \n",
      " 5   DepTime          float64\n",
      " 6   DepDel15         float64\n",
      " 7   CRSDepTime       int64  \n",
      " 8   DepDelayMinutes  float64\n",
      " 9   OriginAirportID  int64  \n",
      " 10  DestAirportID    int64  \n",
      " 11  ArrTime          float64\n",
      " 12  CRSArrTime       int64  \n",
      " 13  ArrDel15         float64\n",
      " 14  ArrDelayMinutes  float64\n",
      " 15  weatherCode      int64  \n",
      " 16  pressure         int64  \n",
      " 17  cloudcover       int64  \n",
      " 18  tempF            int64  \n",
      " 19  WindChillF       int64  \n",
      " 20  time             int64  \n",
      " 21  precipMM         float64\n",
      " 22  DewPointF        int64  \n",
      " 23  humidity         int64  \n",
      " 24  windspeedKmph    int64  \n",
      " 25  visibility       int64  \n",
      " 26  WindGustKmph     int64  \n",
      " 27  winddirDegree    int64  \n",
      " 28  date             object \n",
      " 29  airport          object \n",
      "dtypes: float64(7), int64(20), object(3)\n",
      "memory usage: 423.8+ MB\n"
     ]
    }
   ],
   "source": [
    "df.info()"
   ]
  },
  {
   "cell_type": "markdown",
   "metadata": {},
   "source": [
    "# Feature Engineering"
   ]
  },
  {
   "cell_type": "code",
   "execution_count": 92,
   "metadata": {},
   "outputs": [
    {
     "data": {
      "text/plain": [
       "<matplotlib.axes._subplots.AxesSubplot at 0x1a40beaf3c8>"
      ]
     },
     "execution_count": 92,
     "metadata": {},
     "output_type": "execute_result"
    },
    {
     "data": {
      "image/png": "[encoded data removed]",
      "text/plain": [
       "<Figure size 720x576 with 2 Axes>"
      ]
     },
     "metadata": {
      "needs_background": "light"
     },
     "output_type": "display_data"
    }
   ],
   "source": [
    "sns.heatmap(df.corr())"
   ]
  },
  {
   "cell_type": "code",
   "execution_count": 85,
   "metadata": {},
   "outputs": [
    {
     "data": {
      "image/png": "[encoded data removed]",
      "text/plain": [
       "<Figure size 432x288 with 2 Axes>"
      ]
     },
     "metadata": {},
     "output_type": "display_data"
    }
   ],
   "source": [
    "comat=df.corr()\n",
    "k=15\n",
    "col=comat.nlargest(k,'ArrDel15')['ArrDel15'].index\n",
    "cm=np.corrcoef(df[col].values.T)\n",
    "sns.set(font_scale=1.25)\n",
    "hm = sns.heatmap(cm,annot=True,cbar=True, square=True, fmt='.2f', annot_kws={'size': 8}, yticklabels=col.values, xticklabels=col.values)\n",
    "plt.show()"
   ]
  },
  {
   "cell_type": "code",
   "execution_count": 10,
   "metadata": {},
   "outputs": [
    {
     "name": "stdout",
     "output_type": "stream",
     "text": [
      "ArrDel15           1.000000\n",
      "DepDel15           0.710530\n",
      "ArrDelayMinutes    0.603641\n",
      "DepDelayMinutes    0.546150\n",
      "DepTime            0.154321\n",
      "time               0.126027\n",
      "CRSDepTime         0.126027\n",
      "CRSArrTime         0.110599\n",
      "weatherCode        0.091528\n",
      "precipMM           0.088244\n",
      "windspeedKmph      0.083018\n",
      "WindGustKmph       0.081273\n",
      "ArrTime            0.055535\n",
      "DestAirportID      0.048171\n",
      "DewPointF          0.038163\n",
      "Name: ArrDel15, dtype: float64\n"
     ]
    }
   ],
   "source": [
    "hm=(comat['ArrDel15'].sort_values(ascending=False)[:15])\n",
    "print(hm)"
   ]
  },
  {
   "cell_type": "code",
   "execution_count": 11,
   "metadata": {},
   "outputs": [],
   "source": [
    "true_count=len(df.loc[df['ArrDel15']==True])\n",
    "false_count=len(df.loc[df['ArrDel15']==False])"
   ]
  },
  {
   "cell_type": "code",
   "execution_count": 12,
   "metadata": {},
   "outputs": [
    {
     "name": "stdout",
     "output_type": "stream",
     "text": [
      "True value {1}: 388058 False value {0}: 1463378\n"
     ]
    }
   ],
   "source": [
    "print(\"True value {1}:\",true_count,\"False value {0}:\",false_count)"
   ]
  },
  {
   "cell_type": "code",
   "execution_count": null,
   "metadata": {},
   "outputs": [],
   "source": [
    "features=['DepDel15','WindGustKmph','DepDelayMinutes','DepTime','time','CRSDepTime','windspeedKmph','weatherCode',        \n",
    "'precipMM','WindGustKmph','DestAirportID','DewPointF']\n",
    "prediction=['ArrDel15']"
   ]
  },
  {
   "cell_type": "code",
   "execution_count": 19,
   "metadata": {},
   "outputs": [],
   "source": [
    "X=df[features].values\n",
    "y=df[prediction].values"
   ]
  },
  {
   "cell_type": "markdown",
   "metadata": {},
   "source": [
    "# Train,Test Split & Sampling"
   ]
  },
  {
   "cell_type": "code",
   "execution_count": 44,
   "metadata": {},
   "outputs": [],
   "source": [
    "X_train,X_test,y_train,y_test=train_test_split(X,y,test_size=0.30,random_state=10)"
   ]
  },
  {
   "cell_type": "code",
   "execution_count": 45,
   "metadata": {},
   "outputs": [],
   "source": [
    "from imblearn.under_sampling import NearMiss\n",
    "from imblearn.over_sampling import RandomOverSampler\n",
    "from imblearn.combine import SMOTETomek\n",
    "nm=NearMiss()\n",
    "ros=RandomOverSampler()\n",
    "smt=SMOTETomek()\n",
    "x_nm,y_nm=nm.fit_sample(X_train,y_train)\n",
    "x_ros,y_ros=ros.fit_sample(X_train,y_train)\n",
    "x_smt,y_smt=smt.fit_sample(X_train,y_train)"
   ]
  },
  {
   "cell_type": "code",
   "execution_count": 46,
   "metadata": {},
   "outputs": [
    {
     "name": "stdout",
     "output_type": "stream",
     "text": [
      "NearMiss: (543506, 12) (543506,)\n",
      "RandomOverSampler: (2048504, 12) (2048504,)\n",
      "SMOTETomek: (2010674, 12) (2010674,)\n"
     ]
    }
   ],
   "source": [
    "print(\"NearMiss:\",x_nm.shape,y_nm.shape)\n",
    "print(\"RandomOverSampler:\",x_ros.shape,y_ros.shape)\n",
    "print(\"SMOTETomek:\",x_smt.shape,y_smt.shape)"
   ]
  },
  {
   "cell_type": "markdown",
   "metadata": {},
   "source": [
    "# Classifiers:\n"
   ]
  },
  {
   "cell_type": "markdown",
   "metadata": {},
   "source": [
    "### 1.Logistic Regression"
   ]
  },
  {
   "cell_type": "code",
   "execution_count": 55,
   "metadata": {},
   "outputs": [],
   "source": [
    "lr=LogisticRegression()\n",
    "lr1=LogisticRegression()\n",
    "lr2=LogisticRegression()"
   ]
  },
  {
   "cell_type": "code",
   "execution_count": 56,
   "metadata": {},
   "outputs": [
    {
     "name": "stderr",
     "output_type": "stream",
     "text": [
      "C:\\Users\\Admin\\Anaconda3\\lib\\site-packages\\sklearn\\linear_model\\_logistic.py:764: ConvergenceWarning: lbfgs failed to converge (status=1):\n",
      "STOP: TOTAL NO. of ITERATIONS REACHED LIMIT.\n",
      "\n",
      "Increase the number of iterations (max_iter) or scale the data as shown in:\n",
      "    https://scikit-learn.org/stable/modules/preprocessing.html\n",
      "Please also refer to the documentation for alternative solver options:\n",
      "    https://scikit-learn.org/stable/modules/linear_model.html#logistic-regression\n",
      "  extra_warning_msg=_LOGISTIC_SOLVER_CONVERGENCE_MSG)\n",
      "C:\\Users\\Admin\\Anaconda3\\lib\\site-packages\\sklearn\\linear_model\\_logistic.py:764: ConvergenceWarning: lbfgs failed to converge (status=1):\n",
      "STOP: TOTAL NO. of ITERATIONS REACHED LIMIT.\n",
      "\n",
      "Increase the number of iterations (max_iter) or scale the data as shown in:\n",
      "    https://scikit-learn.org/stable/modules/preprocessing.html\n",
      "Please also refer to the documentation for alternative solver options:\n",
      "    https://scikit-learn.org/stable/modules/linear_model.html#logistic-regression\n",
      "  extra_warning_msg=_LOGISTIC_SOLVER_CONVERGENCE_MSG)\n"
     ]
    }
   ],
   "source": [
    "lr.fit(x_nm,y_nm)\n",
    "lr1.fit(x_ros,y_ros)\n",
    "lr2.fit(x_smt,y_smt)\n",
    "p=lr.predict(X_test)\n",
    "p1=lr1.predict(X_test)\n",
    "p2=lr2.predict(X_test)"
   ]
  },
  {
   "cell_type": "markdown",
   "metadata": {},
   "source": [
    "### 2.Desicion Tree Classifier"
   ]
  },
  {
   "cell_type": "code",
   "execution_count": 60,
   "metadata": {},
   "outputs": [],
   "source": [
    "from sklearn.tree import DecisionTreeClassifier\n",
    "DTC=DecisionTreeClassifier()\n",
    "DTC1=DecisionTreeClassifier()\n",
    "DTC2=DecisionTreeClassifier()\n",
    "DTC.fit(x_nm,y_nm)\n",
    "DTC1.fit(x_ros,y_ros)\n",
    "DTC2.fit(x_smt,y_smt)\n",
    "pr=DTC.predict(X_test)\n",
    "pr1=DTC1.predict(X_test)\n",
    "pr2=DTC2.predict(X_test)"
   ]
  },
  {
   "cell_type": "markdown",
   "metadata": {},
   "source": [
    "### 3.Extra Tree Classifier"
   ]
  },
  {
   "cell_type": "code",
   "execution_count": 81,
   "metadata": {},
   "outputs": [],
   "source": [
    "ETC=ExtraTreesClassifier()\n",
    "ETC1=ExtraTreesClassifier()\n",
    "ETC2=ExtraTreesClassifier()\n",
    "ETC.fit(x_nm,y_nm)\n",
    "ETC1.fit(x_ros,y_ros)\n",
    "ETC2.fit(x_smt,y_smt)\n",
    "pre=ETC.predict(X_test)\n",
    "pre1=ETC1.predict(X_test)\n",
    "pre2=ETC2.predict(X_test)"
   ]
  },
  {
   "cell_type": "markdown",
   "metadata": {},
   "source": [
    "### 4.XGBOOST"
   ]
  },
  {
   "cell_type": "code",
   "execution_count": 75,
   "metadata": {},
   "outputs": [],
   "source": [
    "XGB=XGBClassifier()\n",
    "XGB1=XGBClassifier()\n",
    "XGB2=XGBClassifier()\n",
    "XGB.fit(x_nm,y_nm)\n",
    "XGB1.fit(x_ros,y_ros)\n",
    "XGB2.fit(x_smt,y_smt)\n",
    "pred=XGB.predict(X_test)\n",
    "pred1=XGB1.predict(X_test)\n",
    "pred2=XGB2.predict(X_test)"
   ]
  },
  {
   "cell_type": "markdown",
   "metadata": {},
   "source": [
    "## SAMPLED DATA SCORES:"
   ]
  },
  {
   "cell_type": "markdown",
   "metadata": {},
   "source": [
    "### UnderSampling"
   ]
  },
  {
   "cell_type": "markdown",
   "metadata": {},
   "source": [
    "#### ACCURACY"
   ]
  },
  {
   "cell_type": "code",
   "execution_count": 82,
   "metadata": {},
   "outputs": [
    {
     "name": "stdout",
     "output_type": "stream",
     "text": [
      "LogisticRegression ACCURACY: 0.7865531452151573\n",
      "DecisionTreeClassifier ACCURACY: 0.6136063705482769\n",
      "ExtraTreeClassifier ACCURACY: 0.6743591913306963\n",
      "XGBClassifier ACCURACY: 0.6716495838366962\n"
     ]
    }
   ],
   "source": [
    "print(\"LogisticRegression ACCURACY:\",metrics.accuracy_score(y_test,p))\n",
    "print(\"DecisionTreeClassifier ACCURACY:\",metrics.accuracy_score(y_test,pr))\n",
    "print(\"ExtraTreeClassifier ACCURACY:\",metrics.accuracy_score(y_test,pre))\n",
    "print(\"XGBClassifier ACCURACY:\",metrics.accuracy_score(y_test,pred))"
   ]
  },
  {
   "cell_type": "markdown",
   "metadata": {},
   "source": [
    "#### ROC_ AUC - Higher the auc better the model is "
   ]
  },
  {
   "cell_type": "code",
   "execution_count": 88,
   "metadata": {},
   "outputs": [
    {
     "name": "stdout",
     "output_type": "stream",
     "text": [
      "LogisticRegression ACCURACY: 0.8020484637768748\n",
      "DecisionTreeClassifier ACCURACY: 0.7042834798720954\n",
      "ExtraTreeClassifier ACCURACY: 0.7468928051708579\n",
      "XGBClassifier ACCURACY: 0.7435420785396262\n"
     ]
    }
   ],
   "source": [
    "print(\"LogisticRegression ACCURACY:\",metrics.roc_auc_score(y_test,p))\n",
    "print(\"DecisionTreeClassifier ACCURACY:\",metrics.roc_auc_score(y_test,pr))\n",
    "print(\"ExtraTreeClassifier ACCURACY:\",metrics.roc_auc_score(y_test,pre))\n",
    "print(\"XGBClassifier ACCURACY:\",metrics.roc_auc_score(y_test,pred))"
   ]
  },
  {
   "cell_type": "markdown",
   "metadata": {},
   "source": [
    "#### CLASSIFICATION_REPORT"
   ]
  },
  {
   "cell_type": "code",
   "execution_count": 99,
   "metadata": {},
   "outputs": [
    {
     "name": "stdout",
     "output_type": "stream",
     "text": [
      "LogisticRegression:\n",
      "               precision    recall  f1-score   support\n",
      "\n",
      "         0.0       0.94      0.78      0.85    439126\n",
      "         1.0       0.49      0.83      0.62    116305\n",
      "\n",
      "    accuracy                           0.79    555431\n",
      "   macro avg       0.72      0.80      0.74    555431\n",
      "weighted avg       0.85      0.79      0.80    555431\n",
      "\n",
      "DecisionTreeClassifier:\n",
      "               precision    recall  f1-score   support\n",
      "\n",
      "         0.0       0.94      0.55      0.69    439126\n",
      "         1.0       0.34      0.86      0.48    116305\n",
      "\n",
      "    accuracy                           0.61    555431\n",
      "   macro avg       0.64      0.70      0.59    555431\n",
      "weighted avg       0.81      0.61      0.65    555431\n",
      "\n",
      "ExtraTreeClassifier:\n",
      "               precision    recall  f1-score   support\n",
      "\n",
      "         0.0       0.95      0.62      0.75    439126\n",
      "         1.0       0.38      0.87      0.53    116305\n",
      "\n",
      "    accuracy                           0.67    555431\n",
      "   macro avg       0.66      0.75      0.64    555431\n",
      "weighted avg       0.83      0.67      0.70    555431\n",
      "\n",
      "XGBClassifier:\n",
      "               precision    recall  f1-score   support\n",
      "\n",
      "         0.0       0.95      0.62      0.75    439126\n",
      "         1.0       0.38      0.87      0.53    116305\n",
      "\n",
      "    accuracy                           0.67    555431\n",
      "   macro avg       0.66      0.74      0.64    555431\n",
      "weighted avg       0.83      0.67      0.70    555431\n",
      "\n"
     ]
    }
   ],
   "source": [
    "print(\"LogisticRegression:\\n\",metrics.classification_report(y_test,p))\n",
    "print(\"DecisionTreeClassifier:\\n\",metrics.classification_report(y_test,pr))\n",
    "print(\"ExtraTreeClassifier:\\n\",metrics.classification_report(y_test,pre))\n",
    "print(\"XGBClassifier:\\n\",metrics.classification_report(y_test,pred))"
   ]
  },
  {
   "cell_type": "markdown",
   "metadata": {},
   "source": [
    "#### OverSampling"
   ]
  },
  {
   "cell_type": "code",
   "execution_count": 101,
   "metadata": {},
   "outputs": [
    {
     "name": "stdout",
     "output_type": "stream",
     "text": [
      "LogisticRegression: 0.8938752068213693\n",
      "DecisionTreeClassifier: 0.8635636109615776\n",
      "ExtraTreeClassifier: 0.9099312065765145\n",
      "XGBClassifier: 0.8937347753366305\n"
     ]
    }
   ],
   "source": [
    "print(\"LogisticRegression:\",metrics.accuracy_score(y_test,p1))\n",
    "print(\"DecisionTreeClassifier:\",metrics.accuracy_score(y_test,pr1))\n",
    "print(\"ExtraTreeClassifier:\",metrics.accuracy_score(y1_test,pre1))\n",
    "print(\"XGBClassifier:\",metrics.accuracy_score(y_test,pred1))"
   ]
  },
  {
   "cell_type": "markdown",
   "metadata": {},
   "source": [
    "#### ROC_ AUC - Higher the auc better the model is "
   ]
  },
  {
   "cell_type": "code",
   "execution_count": 89,
   "metadata": {},
   "outputs": [
    {
     "name": "stdout",
     "output_type": "stream",
     "text": [
      "LogisticRegression ACCURACY: 0.8504126738284112\n",
      "DecisionTreeClassifier ACCURACY: 0.797391561984142\n",
      "ExtraTreeClassifier ACCURACY: 0.8320062558212498\n",
      "XGBClassifier ACCURACY: 0.855102409971861\n"
     ]
    }
   ],
   "source": [
    "print(\"LogisticRegression ACCURACY:\",metrics.roc_auc_score(y_test,p1))\n",
    "print(\"DecisionTreeClassifier ACCURACY:\",metrics.roc_auc_score(y_test,pr1))\n",
    "print(\"ExtraTreeClassifier ACCURACY:\",metrics.roc_auc_score(y_test,pre1))\n",
    "print(\"XGBClassifier ACCURACY:\",metrics.roc_auc_score(y_test,pred1))"
   ]
  },
  {
   "cell_type": "markdown",
   "metadata": {},
   "source": [
    "#### CLASSIFICATION REPORT"
   ]
  },
  {
   "cell_type": "code",
   "execution_count": 102,
   "metadata": {},
   "outputs": [
    {
     "name": "stdout",
     "output_type": "stream",
     "text": [
      "LogisticRegression:\n",
      "               precision    recall  f1-score   support\n",
      "\n",
      "         0.0       0.94      0.93      0.93    439126\n",
      "         1.0       0.73      0.78      0.75    116305\n",
      "\n",
      "    accuracy                           0.89    555431\n",
      "   macro avg       0.84      0.85      0.84    555431\n",
      "weighted avg       0.90      0.89      0.89    555431\n",
      "\n",
      "DecisionTreeClassifier:\n",
      "               precision    recall  f1-score   support\n",
      "\n",
      "         0.0       0.92      0.91      0.91    439126\n",
      "         1.0       0.67      0.68      0.68    116305\n",
      "\n",
      "    accuracy                           0.86    555431\n",
      "   macro avg       0.79      0.80      0.80    555431\n",
      "weighted avg       0.86      0.86      0.86    555431\n",
      "\n",
      "ExtraTreeClassifier:\n",
      "               precision    recall  f1-score   support\n",
      "\n",
      "         0.0       0.92      0.97      0.94    439126\n",
      "         1.0       0.84      0.70      0.76    116305\n",
      "\n",
      "    accuracy                           0.91    555431\n",
      "   macro avg       0.88      0.83      0.85    555431\n",
      "weighted avg       0.91      0.91      0.91    555431\n",
      "\n",
      "XGBClassifier:\n",
      "               precision    recall  f1-score   support\n",
      "\n",
      "         0.0       0.94      0.92      0.93    439126\n",
      "         1.0       0.73      0.79      0.76    116305\n",
      "\n",
      "    accuracy                           0.89    555431\n",
      "   macro avg       0.83      0.86      0.84    555431\n",
      "weighted avg       0.90      0.89      0.90    555431\n",
      "\n"
     ]
    }
   ],
   "source": [
    "print(\"LogisticRegression:\\n\",metrics.classification_report(y_test,p1))\n",
    "print(\"DecisionTreeClassifier:\\n\",metrics.classification_report(y_test,pr1))\n",
    "print(\"ExtraTreeClassifier:\\n\",metrics.classification_report(y_test,pre1))\n",
    "print(\"XGBClassifier:\\n\",metrics.classification_report(y_test,pred1))"
   ]
  },
  {
   "cell_type": "markdown",
   "metadata": {},
   "source": [
    "#### UnderSampling & OverSampling"
   ]
  },
  {
   "cell_type": "markdown",
   "metadata": {},
   "source": [
    "#### ACCURACY"
   ]
  },
  {
   "cell_type": "code",
   "execution_count": 84,
   "metadata": {},
   "outputs": [
    {
     "name": "stdout",
     "output_type": "stream",
     "text": [
      "LogisticRegression ACCURACY: 0.8941812754419541\n",
      "DecisionTreeClassifier ACCURACY: 0.8622655199295682\n",
      "ExtraTreeClassifier ACCURACY: 0.9074412483278751\n",
      "XGBClassifier ACCURACY: 0.9162470225824629\n"
     ]
    }
   ],
   "source": [
    "print(\"LogisticRegression ACCURACY:\",metrics.accuracy_score(y_test,p2))\n",
    "print(\"DecisionTreeClassifier ACCURACY:\",metrics.accuracy_score(y_test,pr2))\n",
    "print(\"ExtraTreeClassifier ACCURACY:\",metrics.accuracy_score(y_test,pre2))\n",
    "print(\"XGBClassifier ACCURACY:\",metrics.accuracy_score(y_test,pred2))"
   ]
  },
  {
   "cell_type": "markdown",
   "metadata": {},
   "source": [
    "#### ROC_AUC"
   ]
  },
  {
   "cell_type": "code",
   "execution_count": 90,
   "metadata": {},
   "outputs": [
    {
     "name": "stdout",
     "output_type": "stream",
     "text": [
      "LogisticRegression ACCURACY: 0.8504166151824704\n",
      "DecisionTreeClassifier ACCURACY: 0.7992759291554324\n",
      "ExtraTreeClassifier ACCURACY: 0.8418058739641814\n",
      "XGBClassifier ACCURACY: 0.8329444313584954\n"
     ]
    }
   ],
   "source": [
    "print(\"LogisticRegression ACCURACY:\",metrics.roc_auc_score(y_test,p2))\n",
    "print(\"DecisionTreeClassifier ACCURACY:\",metrics.roc_auc_score(y_test,pr2))\n",
    "print(\"ExtraTreeClassifier ACCURACY:\",metrics.roc_auc_score(y_test,pre2))\n",
    "print(\"XGBClassifier ACCURACY:\",metrics.roc_auc_score(y_test,pred2))"
   ]
  },
  {
   "cell_type": "markdown",
   "metadata": {},
   "source": [
    "#### CLASSIFICATION REPORT"
   ]
  },
  {
   "cell_type": "code",
   "execution_count": 104,
   "metadata": {},
   "outputs": [
    {
     "name": "stdout",
     "output_type": "stream",
     "text": [
      "LogisticRegression:\n",
      "               precision    recall  f1-score   support\n",
      "\n",
      "         0.0       0.94      0.93      0.93    439126\n",
      "         1.0       0.73      0.78      0.75    116305\n",
      "\n",
      "    accuracy                           0.89    555431\n",
      "   macro avg       0.84      0.85      0.84    555431\n",
      "weighted avg       0.90      0.89      0.90    555431\n",
      "\n",
      "DecisionTreeClassifier:\n",
      "               precision    recall  f1-score   support\n",
      "\n",
      "         0.0       0.92      0.91      0.91    439126\n",
      "         1.0       0.66      0.69      0.68    116305\n",
      "\n",
      "    accuracy                           0.86    555431\n",
      "   macro avg       0.79      0.80      0.79    555431\n",
      "weighted avg       0.86      0.86      0.86    555431\n",
      "\n",
      "ExtraTreeClassifier:\n",
      "               precision    recall  f1-score   support\n",
      "\n",
      "         0.0       0.93      0.95      0.94    439126\n",
      "         1.0       0.81      0.73      0.77    116305\n",
      "\n",
      "    accuracy                           0.91    555431\n",
      "   macro avg       0.87      0.84      0.85    555431\n",
      "weighted avg       0.90      0.91      0.91    555431\n",
      "\n",
      "XGBClassifier:\n",
      "               precision    recall  f1-score   support\n",
      "\n",
      "         0.0       0.92      0.98      0.95    439126\n",
      "         1.0       0.89      0.69      0.78    116305\n",
      "\n",
      "    accuracy                           0.92    555431\n",
      "   macro avg       0.90      0.83      0.86    555431\n",
      "weighted avg       0.91      0.92      0.91    555431\n",
      "\n"
     ]
    }
   ],
   "source": [
    "print(\"LogisticRegression:\\n\",metrics.classification_report(y_test,p2))\n",
    "print(\"DecisionTreeClassifier:\\n\",metrics.classification_report(y_test,pr2))\n",
    "print(\"ExtraTreeClassifier:\\n\",metrics.classification_report(y_test,pre2))\n",
    "print(\"XGBClassifier:\\n\",metrics.classification_report(y_test,pred2))"
   ]
  }
 ],
 "metadata": {
  "kernelspec": {
   "display_name": "Python 3",
   "language": "python",
   "name": "python3"
  },
  "language_info": {
   "codemirror_mode": {
    "name": "ipython",
    "version": 3
   },
   "file_extension": ".py",
   "mimetype": "text/x-python",
   "name": "python",
   "nbconvert_exporter": "python",
   "pygments_lexer": "ipython3",
   "version": "3.7.3"
  }
 },
 "nbformat": 4,
 "nbformat_minor": 2
}
