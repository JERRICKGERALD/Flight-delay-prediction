{
 "cells": [
  {
   "cell_type": "markdown",
   "metadata": {},
   "source": [
    "### Regression"
   ]
  },
  {
   "cell_type": "markdown",
   "metadata": {},
   "source": [
    "##### IMPORTING LIBRARIES"
   ]
  },
  {
   "cell_type": "code",
   "execution_count": 2,
   "metadata": {},
   "outputs": [
    {
     "name": "stderr",
     "output_type": "stream",
     "text": [
      "C:\\Users\\Admin\\Anaconda3\\lib\\site-packages\\statsmodels\\tools\\_testing.py:19: FutureWarning: pandas.util.testing is deprecated. Use the functions in the public API at pandas.testing instead.\n",
      "  import pandas.util.testing as tm\n"
     ]
    }
   ],
   "source": [
    "import numpy as np \n",
    "import pandas as pd\n",
    "from sklearn.model_selection import train_test_split\n",
    "import matplotlib.pyplot as plt\n",
    "%matplotlib inline\n",
    "plt.rcParams['figure.figsize'] = (10.0, 8.0)\n",
    "import seaborn as sns\n",
    "from scipy import stats\n",
    "from sklearn import metrics\n",
    "from scipy.stats import norm\n",
    "from sklearn.metrics import roc_auc_score,accuracy_score\n",
    "from sklearn.linear_model import LinearRegression\n",
    "from math import sqrt"
   ]
  },
  {
   "cell_type": "markdown",
   "metadata": {},
   "source": [
    "#### Data Reading"
   ]
  },
  {
   "cell_type": "code",
   "execution_count": 75,
   "metadata": {},
   "outputs": [],
   "source": [
    "df=pd.read_csv(r\"C:\\Users\\Admin\\MLP\\DATA\\Data.csv\")"
   ]
  },
  {
   "cell_type": "code",
   "execution_count": 78,
   "metadata": {},
   "outputs": [
    {
     "data": {
      "text/plain": [
       "Index(['Unnamed: 0', 'FlightDate', 'Quarter', 'Year', 'Month', 'DayofMonth',\n",
       "       'DepTime', 'DepDel15', 'CRSDepTime', 'DepDelayMinutes',\n",
       "       'OriginAirportID', 'DestAirportID', 'ArrTime', 'CRSArrTime', 'ArrDel15',\n",
       "       'ArrDelayMinutes', 'weatherCode', 'pressure', 'cloudcover', 'tempF',\n",
       "       'WindChillF', 'time', 'precipMM', 'DewPointF', 'humidity',\n",
       "       'windspeedKmph', 'visibility', 'WindGustKmph', 'winddirDegree', 'date',\n",
       "       'airport'],\n",
       "      dtype='object')"
      ]
     },
     "execution_count": 78,
     "metadata": {},
     "output_type": "execute_result"
    }
   ],
   "source": [
    "df.columns"
   ]
  },
  {
   "cell_type": "code",
   "execution_count": 57,
   "metadata": {},
   "outputs": [
    {
     "data": {
      "text/plain": [
       "(388058, 31)"
      ]
     },
     "execution_count": 57,
     "metadata": {},
     "output_type": "execute_result"
    }
   ],
   "source": [
    "# df=df.drop(['Unnamed: 0'],axis=1)\n",
    "df1=df[df.ArrDel15==1]\n",
    "df1.shape"
   ]
  },
  {
   "cell_type": "code",
   "execution_count": 58,
   "metadata": {},
   "outputs": [
    {
     "data": {
      "text/plain": [
       "Unnamed: 0         0\n",
       "FlightDate         0\n",
       "Quarter            0\n",
       "Year               0\n",
       "Month              0\n",
       "DayofMonth         0\n",
       "DepTime            0\n",
       "DepDel15           0\n",
       "CRSDepTime         0\n",
       "DepDelayMinutes    0\n",
       "OriginAirportID    0\n",
       "DestAirportID      0\n",
       "ArrTime            0\n",
       "CRSArrTime         0\n",
       "ArrDel15           0\n",
       "ArrDelayMinutes    0\n",
       "weatherCode        0\n",
       "pressure           0\n",
       "cloudcover         0\n",
       "tempF              0\n",
       "WindChillF         0\n",
       "time               0\n",
       "precipMM           0\n",
       "DewPointF          0\n",
       "humidity           0\n",
       "windspeedKmph      0\n",
       "visibility         0\n",
       "WindGustKmph       0\n",
       "winddirDegree      0\n",
       "date               0\n",
       "airport            0\n",
       "dtype: int64"
      ]
     },
     "execution_count": 58,
     "metadata": {},
     "output_type": "execute_result"
    }
   ],
   "source": [
    "df1.isnull().sum()"
   ]
  },
  {
   "cell_type": "code",
   "execution_count": 64,
   "metadata": {},
   "outputs": [
    {
     "data": {
      "text/plain": [
       "Index(['FlightDate', 'Quarter', 'Year', 'Month', 'DayofMonth', 'DepTime',\n",
       "       'DepDel15', 'CRSDepTime', 'DepDelayMinutes', 'OriginAirportID',\n",
       "       'DestAirportID', 'ArrTime', 'CRSArrTime', 'ArrDel15', 'ArrDelayMinutes',\n",
       "       'weatherCode', 'pressure', 'cloudcover', 'tempF', 'WindChillF', 'time',\n",
       "       'precipMM', 'DewPointF', 'humidity', 'windspeedKmph', 'visibility',\n",
       "       'WindGustKmph', 'winddirDegree', 'date', 'airport'],\n",
       "      dtype='object')"
      ]
     },
     "execution_count": 64,
     "metadata": {},
     "output_type": "execute_result"
    }
   ],
   "source": [
    "df1=df1.drop(['Unnamed: 0'],axis=1)\n",
    "df1.columns"
   ]
  },
  {
   "cell_type": "code",
   "execution_count": 45,
   "metadata": {},
   "outputs": [
    {
     "data": {
      "text/plain": [
       "<matplotlib.axes._subplots.AxesSubplot at 0x240c6d37e10>"
      ]
     },
     "execution_count": 45,
     "metadata": {},
     "output_type": "execute_result"
    },
    {
     "data": {
      "image/png": "[encoded data removed]",
      "text/plain": [
       "<Figure size 576x360 with 1 Axes>"
      ]
     },
     "metadata": {},
     "output_type": "display_data"
    }
   ],
   "source": [
    "plt.figure(figsize=(8,5))\n",
    "sns.distplot(df1['ArrDelayMinutes'],color='g')"
   ]
  },
  {
   "cell_type": "markdown",
   "metadata": {},
   "source": [
    "##### There is no missing values!"
   ]
  },
  {
   "cell_type": "markdown",
   "metadata": {},
   "source": [
    "#### Feature Engineering"
   ]
  },
  {
   "cell_type": "code",
   "execution_count": 65,
   "metadata": {},
   "outputs": [
    {
     "data": {
      "image/png": "[encoded data removed]",
      "text/plain": [
       "<Figure size 432x288 with 2 Axes>"
      ]
     },
     "metadata": {},
     "output_type": "display_data"
    }
   ],
   "source": [
    "comat=df1.corr()\n",
    "k=15\n",
    "col=comat.nlargest(k,'ArrDelayMinutes')['ArrDelayMinutes'].index\n",
    "cm=np.corrcoef(df[col].values.T)\n",
    "sns.set(font_scale=1.25)\n",
    "hm = sns.heatmap(cm,annot=True, fmt='.2f', annot_kws={'size':8}, yticklabels=col.values, xticklabels=col.values)\n",
    "plt.show()"
   ]
  },
  {
   "cell_type": "code",
   "execution_count": 66,
   "metadata": {},
   "outputs": [],
   "source": [
    "features=['DepDelayMinutes','DepTime','CRSDepTime','precipMM','weatherCode','CRSArrTime','WindGustKmph','windspeedKmph','DewPointF','cloudcover','humidity','tempF']\n",
    "prediction=['ArrDelayMinutes']"
   ]
  },
  {
   "cell_type": "code",
   "execution_count": 67,
   "metadata": {},
   "outputs": [],
   "source": [
    "X=df1[features].values\n",
    "y=df1[prediction].values"
   ]
  },
  {
   "cell_type": "code",
   "execution_count": 68,
   "metadata": {},
   "outputs": [
    {
     "name": "stdout",
     "output_type": "stream",
     "text": [
      "X-Shape: (388058, 12)\n",
      "Y-Shape: (388058, 1)\n"
     ]
    }
   ],
   "source": [
    "print(\"X-Shape:\",X.shape)\n",
    "print(\"Y-Shape:\",y.shape)"
   ]
  },
  {
   "cell_type": "markdown",
   "metadata": {},
   "source": [
    "#### Train ,Test Split"
   ]
  },
  {
   "cell_type": "code",
   "execution_count": 69,
   "metadata": {},
   "outputs": [],
   "source": [
    "X_train,X_test,y_train,y_test=train_test_split(X,y,test_size=0.30,random_state=10)"
   ]
  },
  {
   "cell_type": "markdown",
   "metadata": {},
   "source": [
    "### Regressions:"
   ]
  },
  {
   "cell_type": "markdown",
   "metadata": {},
   "source": [
    "#### 1.Linear Regression:"
   ]
  },
  {
   "cell_type": "code",
   "execution_count": 70,
   "metadata": {},
   "outputs": [],
   "source": [
    "LR=LinearRegression()\n",
    "reg=LR.fit(X_train,y_train)"
   ]
  },
  {
   "cell_type": "code",
   "execution_count": 71,
   "metadata": {},
   "outputs": [],
   "source": [
    "p=LR.predict(X_test)"
   ]
  },
  {
   "cell_type": "code",
   "execution_count": 72,
   "metadata": {},
   "outputs": [
    {
     "name": "stdout",
     "output_type": "stream",
     "text": [
      "MEAN ABSOLUTE ERROR: 14.706037924438764\n",
      "ROOT MEAN SQUARE ERROR: 20.048139452560463\n",
      "R2_SCORE: 0.921594623318835\n"
     ]
    }
   ],
   "source": [
    "print(\"MEAN ABSOLUTE ERROR:\",metrics.mean_absolute_error(p,y_test))\n",
    "print(\"ROOT MEAN SQUARE ERROR:\",sqrt(metrics.mean_squared_error(p,y_test)))\n",
    "print(\"R2_SCORE:\",metrics.r2_score(y_test,p))"
   ]
  },
  {
   "cell_type": "markdown",
   "metadata": {},
   "source": [
    "#### 2.Extra Tree Regressor:"
   ]
  },
  {
   "cell_type": "code",
   "execution_count": 82,
   "metadata": {},
   "outputs": [],
   "source": [
    "from sklearn.ensemble import ExtraTreesRegressor"
   ]
  },
  {
   "cell_type": "code",
   "execution_count": 83,
   "metadata": {},
   "outputs": [
    {
     "name": "stderr",
     "output_type": "stream",
     "text": [
      "C:\\Users\\Admin\\Anaconda3\\lib\\site-packages\\ipykernel_launcher.py:2: DataConversionWarning: A column-vector y was passed when a 1d array was expected. Please change the shape of y to (n_samples,), for example using ravel().\n",
      "  \n"
     ]
    }
   ],
   "source": [
    "ETR=ExtraTreesRegressor()\n",
    "reg1=ETR.fit(X_train,y_train)"
   ]
  },
  {
   "cell_type": "code",
   "execution_count": 84,
   "metadata": {},
   "outputs": [],
   "source": [
    "p1=ETR.predict(X_test)"
   ]
  },
  {
   "cell_type": "code",
   "execution_count": 85,
   "metadata": {},
   "outputs": [
    {
     "name": "stdout",
     "output_type": "stream",
     "text": [
      "MEAN ABSOLUTE ERROR: 12.288769004793071\n",
      " ROOT MEAN SQUARE ERROR: 17.5012396537589\n",
      "R2_SCORE: 0.9367059862242286\n"
     ]
    }
   ],
   "source": [
    "print(\"MEAN ABSOLUTE ERROR:\",metrics.mean_absolute_error(p1,y_test))\n",
    "print(\" ROOT MEAN SQUARE ERROR:\",sqrt(metrics.mean_squared_error(p1,y_test)))\n",
    "print(\"R2_SCORE:\",metrics.r2_score(p1,y_test))"
   ]
  },
  {
   "cell_type": "markdown",
   "metadata": {},
   "source": [
    "#### 3.XGBRegressor"
   ]
  },
  {
   "cell_type": "code",
   "execution_count": 79,
   "metadata": {},
   "outputs": [],
   "source": [
    "import xgboost \n",
    "from xgboost import XGBRegressor\n",
    "XGB=XGBRegressor()\n",
    "reg2=XGB.fit(X_train,y_train)"
   ]
  },
  {
   "cell_type": "code",
   "execution_count": 80,
   "metadata": {},
   "outputs": [],
   "source": [
    "pre=XGB.predict(X_test)"
   ]
  },
  {
   "cell_type": "code",
   "execution_count": 81,
   "metadata": {},
   "outputs": [
    {
     "name": "stdout",
     "output_type": "stream",
     "text": [
      "MEAN ABSOLUTE ERROR: 11.64085445505795\n",
      "ROOT MEAN SQUARE ERROR: 16.82325212927793\n",
      "r2_SCORE: 0.9447900182025937\n"
     ]
    }
   ],
   "source": [
    "print(\"MEAN ABSOLUTE ERROR:\",metrics.mean_absolute_error(pre,y_test))\n",
    "print(\"ROOT MEAN SQUARE ERROR:\",sqrt(metrics.mean_squared_error(pre,y_test)))\n",
    "print(\"r2_SCORE:\",metrics.r2_score(y_test,pre))"
   ]
  },
  {
   "cell_type": "markdown",
   "metadata": {},
   "source": [
    "#### 4.LASSO REGRESSION"
   ]
  },
  {
   "cell_type": "code",
   "execution_count": 73,
   "metadata": {},
   "outputs": [],
   "source": [
    "from sklearn.linear_model import Lasso\n",
    "LS=Lasso()\n",
    "LS.fit(X_train,y_train)\n",
    "pred=LS.predict(X_test)"
   ]
  },
  {
   "cell_type": "code",
   "execution_count": 74,
   "metadata": {},
   "outputs": [
    {
     "name": "stdout",
     "output_type": "stream",
     "text": [
      "MEAN ABSOLUTE ERROR: 14.703951160776663\n",
      "ROOT MEAN SQUARE ERROR: 20.04881525814758\n",
      "r2_SCORE: 0.9215893372737318\n"
     ]
    }
   ],
   "source": [
    "print(\"MEAN ABSOLUTE ERROR:\",metrics.mean_absolute_error(pred,y_test))\n",
    "print(\"ROOT MEAN SQUARE ERROR:\",sqrt(metrics.mean_squared_error(pred,y_test)))\n",
    "print(\"r2_SCORE:\",metrics.r2_score(y_test,pred))"
   ]
  },
  {
   "cell_type": "markdown",
   "metadata": {},
   "source": [
    "#### Regression Analysis"
   ]
  },
  {
   "cell_type": "markdown",
   "metadata": {},
   "source": [
    "### TABULAR VALUES OF REGRESSION -To choose the best"
   ]
  },
  {
   "cell_type": "code",
   "execution_count": 87,
   "metadata": {},
   "outputs": [
    {
     "name": "stdout",
     "output_type": "stream",
     "text": [
      "REGRESSION            R2_SCORE    RMSE    MAE  BETTER MODEL\n",
      "------------------  ----------  ------  -----  --------------\n",
      "Linear Regression        92.15   20.04  14.7\n",
      "ExtraTreeRegressor       93.67   17.5   12.28\n",
      "XGBRegressor             94.47   16.28  16.82  BEST\n",
      "LassoRegressor           92.15   20.04  14.7\n"
     ]
    }
   ],
   "source": [
    "from tabulate import tabulate\n",
    "table = [[\"Linear Regression\",92.15,20.04,14.70],[\"ExtraTreeRegressor\",93.67,17.50,12.28],[\"XGBRegressor\",94.47,16.28,16.82,\"BEST\"],[\"LassoRegressor\",92.15,20.04,14.70,]]\n",
    "print(tabulate(table, headers=[\"REGRESSION\",\"R2_SCORE\", \"RMSE\",\"MAE\",\"BETTER MODEL\"]))"
   ]
  },
  {
   "cell_type": "code",
   "execution_count": 88,
   "metadata": {},
   "outputs": [],
   "source": [
    "bool_series1 = df1[df1[\"ArrDelayMinutes\"].between(0,550)] \n",
    "bool_series2 = df1[df1[\"ArrDelayMinutes\"].between(550,1100)] \n",
    "bool_series3 = df1[df1[\"ArrDelayMinutes\"].between(1150,1650)]\n",
    "bool_series4 = df1[df1[\"ArrDelayMinutes\"].between(1650,2200)] "
   ]
  },
  {
   "cell_type": "code",
   "execution_count": 89,
   "metadata": {},
   "outputs": [],
   "source": [
    "series=[bool_series1,bool_series2,bool_series3,bool_series4]"
   ]
  },
  {
   "cell_type": "code",
   "execution_count": 90,
   "metadata": {},
   "outputs": [],
   "source": [
    "XGB=XGBRegressor()\n",
    "LR=LinearRegression()"
   ]
  },
  {
   "cell_type": "code",
   "execution_count": 91,
   "metadata": {},
   "outputs": [
    {
     "name": "stdout",
     "output_type": "stream",
     "text": [
      "XGB REGRESSOR\n",
      "RANGE: 15.0 - 550.0\n",
      "MEAN ABSOLUTE ERROR: 11.623725879498233\n",
      "ROOT MEAN SQUARE ERROR: 16.706291841011073\n",
      "RANGE: 550.0 - 1097.0\n",
      "MEAN ABSOLUTE ERROR: 17.296859582815202\n",
      "ROOT MEAN SQUARE ERROR: 24.039854060828304\n",
      "RANGE: 1150.0 - 1649.0\n",
      "MEAN ABSOLUTE ERROR: 30.62341839334239\n",
      "ROOT MEAN SQUARE ERROR: 39.48341775786483\n",
      "RANGE: 1711.0 - 2142.0\n",
      "MEAN ABSOLUTE ERROR: 85.5\n",
      "ROOT MEAN SQUARE ERROR: 90.12529934246122\n"
     ]
    }
   ],
   "source": [
    "print(\"XGB REGRESSOR\")\n",
    "for j in series:\n",
    "    data=j\n",
    "    features1=['DepDelayMinutes','DepTime','CRSDepTime','precipMM','weatherCode','CRSArrTime','WindGustKmph','windspeedKmph','DewPointF','cloudcover','humidity','tempF']\n",
    "    prediction1=['ArrDelayMinutes']\n",
    "    X1=data[features1].values\n",
    "    y1=data[prediction1].values\n",
    "    X2_train,X2_test,y2_train,y2_test=train_test_split(X1,y1,test_size=0.30,random_state=10)\n",
    "    XGB.fit(X2_train,y2_train)\n",
    "    pred_1=XGB.predict(X2_test)\n",
    "    LR.fit(X2_train,y2_train)\n",
    "    pred_2=LR.predict(X2_test)\n",
    "    print(\"RANGE:\",data['ArrDelayMinutes'].min(),\"-\",data['ArrDelayMinutes'].max())\n",
    "    print(\"MEAN ABSOLUTE ERROR:\",metrics.mean_absolute_error(pred_1,y2_test))\n",
    "    print(\"ROOT MEAN SQUARE ERROR:\",sqrt(metrics.mean_squared_error(pred_1,y2_test)))"
   ]
  },
  {
   "cell_type": "markdown",
   "metadata": {},
   "source": [
    "#### PIPELINE"
   ]
  },
  {
   "cell_type": "code",
   "execution_count": 92,
   "metadata": {},
   "outputs": [
    {
     "data": {
      "text/plain": [
       "Pipeline(steps=[('scaler', StandardScaler()),\n",
       "                ('XGB',\n",
       "                 XGBRegressor(base_score=0.5, booster='gbtree',\n",
       "                              colsample_bylevel=1, colsample_bynode=1,\n",
       "                              colsample_bytree=1, gamma=0, gpu_id=-1,\n",
       "                              importance_type='gain',\n",
       "                              interaction_constraints='',\n",
       "                              learning_rate=0.300000012, max_delta_step=0,\n",
       "                              max_depth=6, min_child_weight=1, missing=nan,\n",
       "                              monotone_constraints='()', n_estimators=100,\n",
       "                              n_jobs=0, num_parallel_tree=1, random_state=0,\n",
       "                              reg_alpha=0, reg_lambda=1, scale_pos_weight=1,\n",
       "                              subsample=1, tree_method='exact',\n",
       "                              validate_parameters=1, verbosity=None))])"
      ]
     },
     "execution_count": 92,
     "metadata": {},
     "output_type": "execute_result"
    }
   ],
   "source": [
    "features2=['DepDelayMinutes','DepTime','CRSDepTime','precipMM','weatherCode','CRSArrTime','WindGustKmph','windspeedKmph','DewPointF','cloudcover','humidity','tempF']\n",
    "prediction2=['ArrDelayMinutes']\n",
    "X2=df1[features2].values\n",
    "y2=df1[prediction2].values\n",
    "from sklearn.preprocessing import StandardScaler\n",
    "from xgboost import XGBRegressor\n",
    "from sklearn.pipeline import Pipeline\n",
    "X3_train, X3_test, y3_train, y3_test = train_test_split(X2,y2,test_size=0.2, random_state=30)\n",
    "pipe = Pipeline([('scaler', StandardScaler()), ('XGB',XGBRegressor())])\n",
    "pipe.fit(X3_train,y3_train)"
   ]
  },
  {
   "cell_type": "code",
   "execution_count": 93,
   "metadata": {},
   "outputs": [
    {
     "data": {
      "text/plain": [
       "0.9438218116575812"
      ]
     },
     "execution_count": 93,
     "metadata": {},
     "output_type": "execute_result"
    }
   ],
   "source": [
    "pipe.score(X3_test, y3_test)"
   ]
  },
  {
   "cell_type": "code",
   "execution_count": 94,
   "metadata": {},
   "outputs": [],
   "source": [
    "pred_5=pipe.predict(X3_test)"
   ]
  },
  {
   "cell_type": "code",
   "execution_count": 95,
   "metadata": {},
   "outputs": [
    {
     "name": "stdout",
     "output_type": "stream",
     "text": [
      "MEAN ABSOLUTE ERROR: 11.627398850468946\n",
      "ROOT MEAN SQUARE ERROR: 16.77947422683909\n",
      "r2_SCORE: 0.9438218116575812\n"
     ]
    }
   ],
   "source": [
    "print(\"MEAN ABSOLUTE ERROR:\",metrics.mean_absolute_error(pred_5,y3_test))\n",
    "print(\"ROOT MEAN SQUARE ERROR:\",sqrt(metrics.mean_squared_error(pred_5,y3_test)))\n",
    "print(\"r2_SCORE:\",metrics.r2_score(y3_test,pred_5))"
   ]
  },
  {
   "cell_type": "code",
   "execution_count": 96,
   "metadata": {},
   "outputs": [],
   "source": [
    "pipe1 = Pipeline([('scaler', StandardScaler()), ('LR',LinearRegression())])\n",
    "pipe1.fit(X3_train,y3_train)\n",
    "pred_6=pipe1.predict(X3_test)"
   ]
  },
  {
   "cell_type": "code",
   "execution_count": 97,
   "metadata": {},
   "outputs": [
    {
     "name": "stdout",
     "output_type": "stream",
     "text": [
      "MEAN ABSOLUTE ERROR: 14.698729571797893\n",
      "ROOT MEAN SQUARE ERROR: 20.032681713927264\n",
      "r2_SCORE: 0.9199264257223005\n"
     ]
    }
   ],
   "source": [
    "print(\"MEAN ABSOLUTE ERROR:\",metrics.mean_absolute_error(pred_6,y3_test))\n",
    "print(\"ROOT MEAN SQUARE ERROR:\",sqrt(metrics.mean_squared_error(pred_6,y3_test)))\n",
    "print(\"r2_SCORE:\",metrics.r2_score(y3_test,pred_6))"
   ]
  },
  {
   "cell_type": "code",
   "execution_count": 98,
   "metadata": {},
   "outputs": [],
   "source": [
    "pipe2 = Pipeline([('scaler', StandardScaler()), ('LR',Lasso())])\n",
    "pipe2.fit(X3_train,y3_train)\n",
    "pred_7=pipe2.predict(X3_test)"
   ]
  },
  {
   "cell_type": "code",
   "execution_count": 99,
   "metadata": {},
   "outputs": [
    {
     "name": "stdout",
     "output_type": "stream",
     "text": [
      "MEAN ABSOLUTE ERROR: 14.720671123617704\n",
      "ROOT MEAN SQUARE ERROR: 20.132646171401838\n",
      "r2_SCORE: 0.9191252865581954\n"
     ]
    }
   ],
   "source": [
    "print(\"MEAN ABSOLUTE ERROR:\",metrics.mean_absolute_error(pred_7,y3_test))\n",
    "print(\"ROOT MEAN SQUARE ERROR:\",sqrt(metrics.mean_squared_error(pred_7,y3_test)))\n",
    "print(\"r2_SCORE:\",metrics.r2_score(y3_test,pred_7))"
   ]
  },
  {
   "cell_type": "code",
   "execution_count": 100,
   "metadata": {},
   "outputs": [
    {
     "name": "stderr",
     "output_type": "stream",
     "text": [
      "C:\\Users\\Admin\\Anaconda3\\lib\\site-packages\\sklearn\\pipeline.py:335: DataConversionWarning: A column-vector y was passed when a 1d array was expected. Please change the shape of y to (n_samples,), for example using ravel().\n",
      "  self._final_estimator.fit(Xt, y, **fit_params_last_step)\n"
     ]
    }
   ],
   "source": [
    "pipe3 = Pipeline([('scaler', StandardScaler()), ('ETR',ExtraTreesRegressor())])\n",
    "pipe3.fit(X3_train,y3_train)\n",
    "pred_8=pipe3.predict(X3_test)"
   ]
  },
  {
   "cell_type": "code",
   "execution_count": 101,
   "metadata": {},
   "outputs": [
    {
     "name": "stdout",
     "output_type": "stream",
     "text": [
      "MEAN ABSOLUTE ERROR: 12.277769674792559\n",
      "ROOT MEAN SQUARE ERROR: 17.432069904799004\n",
      "r2_SCORE: 0.9393670148206309\n"
     ]
    }
   ],
   "source": [
    "print(\"MEAN ABSOLUTE ERROR:\",metrics.mean_absolute_error(pred_8,y3_test))\n",
    "print(\"ROOT MEAN SQUARE ERROR:\",sqrt(metrics.mean_squared_error(pred_8,y3_test)))\n",
    "print(\"r2_SCORE:\",metrics.r2_score(y3_test,pred_8))"
   ]
  },
  {
   "cell_type": "code",
   "execution_count": 103,
   "metadata": {},
   "outputs": [
    {
     "name": "stdout",
     "output_type": "stream",
     "text": [
      "REGRESSION            R2_SCORE    RMSE    MAE  BETTER MODEL\n",
      "------------------  ----------  ------  -----  --------------\n",
      "Linear Regression        91.99   20.03  14.69\n",
      "ExtraTreeRegressor       93.93   17.43  12.27\n",
      "XGBRegressor             94.38   16.77  11.62  BEST\n",
      "LassoRegressor           91.91   20.13  14.69\n"
     ]
    }
   ],
   "source": [
    "from tabulate import tabulate\n",
    "table1 = [[\"Linear Regression\",91.99,20.03,14.69],[\"ExtraTreeRegressor\",93.93,17.43,12.27],[\"XGBRegressor\",94.38,16.77,11.62,\"BEST\"],[\"LassoRegressor\",91.91,20.13,14.69,]]\n",
    "print(tabulate(table1, headers=[\"REGRESSION\",\"R2_SCORE\", \"RMSE\",\"MAE\",\"BETTER MODEL\"]))"
   ]
  },
  {
   "cell_type": "markdown",
   "metadata": {},
   "source": [
    "###### Root Mean Square And Mean Absolute Error has good values for all the range.The above results shows the values of regression which have better r2 score,RMSE and MAE.Among the four regressions 'XGBOOST' preforms  better.The values of XGBoost have low error when compared to other regression model,and model fits better for dependent variable."
   ]
  }
 ],
 "metadata": {
  "kernelspec": {
   "display_name": "Python 3",
   "language": "python",
   "name": "python3"
  },
  "language_info": {
   "codemirror_mode": {
    "name": "ipython",
    "version": 3
   },
   "file_extension": ".py",
   "mimetype": "text/x-python",
   "name": "python",
   "nbconvert_exporter": "python",
   "pygments_lexer": "ipython3",
   "version": "3.7.3"
  }
 },
 "nbformat": 4,
 "nbformat_minor": 2
}
